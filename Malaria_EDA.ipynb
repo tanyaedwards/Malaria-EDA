{
 "cells": [
  {
   "cell_type": "markdown",
   "metadata": {},
   "source": [
    "# Malaria EDA\n",
    "In 2017, 435000 people died from malaria worldwide, making it one of the world's leading causes of deaths. In this notebook, I look at the overall numbers of malaria and the trend in estimated cases across different regions between the years 2000 and 2017, focusing on the African continent. I then look at how the incidence of cases compares with malaria funding, distributed Insecticide Treated Nets (ITNs) and weather conditions. \n",
    "\n",
    "### Insights\n",
    "\n",
    "- Sub-Saharan Africa makes up 91.5% of worldwide cases of malaria, but just 14% of the world's population    \n",
    "- 25% of cases worldwide occur in Nigeria  \n",
    "- Over one third of cases worldwide occur in just two countries: Nigeria and the Democratic Republic of Congo (DRC) and 50% of all cases are shared between just 5 countries: Nigeria, DRC, Mozambique, India and Uganda  \n",
    "\n",
    "- The incidence of malaria transmission is highest in Africa and the Western Pacific, while the highest absolute number of cases occurs in Africa and Southeast Asia    \n",
    "- Western Africa is the most effected region in Africa, having the highest incidence of malaria   \n",
    "- Rwanda has the highest rate of malaria transmission. Almost 50% of people living in 'at risk' areas in Rwanda were infected in 2018    \n",
    "\n",
    "- 2018 saw a 31% drop in funding per capita in Africa  \n",
    "- Even with a drop in funding, the average incidence rate in Africa continued to decline in 2018  \n",
    "\n",
    "- There is no strong correlation between weather conditions and the estimated incidence of malaria, suggesting other factors play a much stronger role   \n",
    "\n",
    "For information on how the data was collected and cleaned, please see Malaria_DataCleaning.ipynb in the same repository. Data was collected and compiled from multiple sources:\n",
    "\n",
    "World Health Organisation (WHO) (malaria Cases https://www.who.int/data/gho/data/themes/malaria)   \n",
    "&nbsp; &nbsp; &nbsp; &nbsp; &nbsp; &nbsp; &nbsp; &nbsp; &nbsp; &nbsp; &nbsp; &nbsp; &nbsp; &nbsp; &nbsp; &nbsp; &nbsp; &nbsp; &nbsp; &nbsp; &nbsp; &nbsp; &nbsp; &nbsp; &nbsp; &nbsp; &nbsp; \n",
    "(Funding and ITNs https://www.who.int/publications/i/item/9789241565721)  \n",
    "World Weather Online  (Weather Conditions www.worldweatheronline.com accessed with API key)  \n",
    "Berkeley Earth (Global Temperatures http://berkeleyearth.org/archive/data/)  \n",
    "Global Fund (Funding and ITNs https://data.theglobalfund.org)  \n",
    "World Bank (Population and Exchange Rates https://data.worldbank.org/)\n",
    "\n",
    "All the data above is openly available, except for the data from *World Weather Online*. See my repository called 'Weather API' for more information on how to access these files. Data from the *World Health Organisation* was available up until 2018. "
   ]
  },
  {
   "cell_type": "markdown",
   "metadata": {},
   "source": [
    "First, I read in the necessary libraries. For the graphs in this notebook, I used the Plotly and Matplotlib libraries."
   ]
  },
  {
   "cell_type": "code",
   "execution_count": 1,
   "metadata": {},
   "outputs": [],
   "source": [
    "import plotly.express as px\n",
    "from matplotlib import pyplot as plt\n",
    "import pandas as pd"
   ]
  },
  {
   "cell_type": "markdown",
   "metadata": {},
   "source": [
    "Below I import another notebook, where I read in, cleaned and prepared the data."
   ]
  },
  {
   "cell_type": "code",
   "execution_count": 2,
   "metadata": {},
   "outputs": [],
   "source": [
    "%run Malaria_DataCleaning.ipynb"
   ]
  },
  {
   "cell_type": "markdown",
   "metadata": {},
   "source": [
    "## Total Cases of Malaria\n",
    "As we can see from the pie chart below, 91.5% of worldwide cases of malaria occurred in Africa* in 2017. Considering Africa only makes up 17% of the world's population, with the Sub-Saharan region even less, this is a disproportionately large number. The next region to be effected is Southeast Asia with just above 5% of all cases, with the Eastern Mediterranean following with 2% of cases. \n",
    "\n",
    "**In this case, WHO defines the African region differently to the African Union and mainly includes countries in Sub-Saharan Africa. For a list of countries with their corresponding WHO region, please see countries.csv in the 'Data' folder.*\n",
    "\n",
    "Using Plotly, I first defined the type of plot as a pie chart and then fed it my dataframe, the column of values to plot and the column of categories (names) to consider. "
   ]
  },
  {
   "cell_type": "code",
   "execution_count": 3,
   "metadata": {},
   "outputs": [],
   "source": [
    "#Malaria Cases by WHO Region in 2017\n",
    "fig1 = px.pie(WHO_region, values='2017', names='WHO_Region',\n",
    "             title='Percentage of Worldwide Cases by WHO Region in 2017')\n",
    "fig1.write_image(\"Figures/pie/MalariaCasesPerc2017_WHOregion.jpg\")"
   ]
  },
  {
   "cell_type": "markdown",
   "metadata": {},
   "source": [
    "<img src=\"Figures/pie/MalariaCasesPerc2017_WHOregion.jpg\">"
   ]
  },
  {
   "cell_type": "markdown",
   "metadata": {},
   "source": [
    "Here I define a bar graph with the dataframe WHO_region_pivot as my main input. Its column 'Year' were the x values and for the y values I fed it a list of column names starting from the second column and up ('2010' to '2017'). I added a title and changed the y axis and legend labels."
   ]
  },
  {
   "cell_type": "code",
   "execution_count": null,
   "metadata": {},
   "outputs": [],
   "source": [
    "#Worldwide Cases by WHO Region\n",
    "fig2 = px.bar(WHO_region_pivot,\n",
    "              x='Year',\n",
    "              y=WHO_region_pivot.columns.tolist()[1:],\n",
    "              title='Worldwide Cases of Malaria',\n",
    "              labels={'value':'Malaria Cases (million people)',\n",
    "                      'variable':'WHO Region'})\n",
    "fig2.write_image('Figures/bar/MalariaCases2010_2017_WHOregion.jpg')"
   ]
  },
  {
   "cell_type": "markdown",
   "metadata": {},
   "source": [
    "Below is a bar chart showing the number of estimated cases per WHO defined region between 2010 and 2017. Africa has held the vast majority of these cases in all years shown. After a slow decrease from 2010 to 2016, cases rose in Africa by 5 million cases from 195.5 million in 2016 up to 200.5 million in 2017, an increase of 2.6% within a year. In contrast, cases declined in Africa by 10.9 million from 2010 to 2016 - 5.3% over a 6 year period. "
   ]
  },
  {
   "attachments": {},
   "cell_type": "markdown",
   "metadata": {},
   "source": [
    "<img src=\"Figures/bar/MalariaCases2010_2017_WHOregion.jpg\">"
   ]
  },
  {
   "cell_type": "markdown",
   "metadata": {},
   "source": [
    "Below I plot the number of malaria cases between 2010 and 2017 as a line for each WHO region. The input 'color' defines the separate categories of lines to plot. The next figure shows the estimated incidence of malaria transmission, how many cases of malaria occur per 1000 people living in areas where malaria is prevalent. While Africa, overall, has recently seen an increase in cases, the rest of the world has either continued to decline or has stayed constant. "
   ]
  },
  {
   "cell_type": "code",
   "execution_count": 5,
   "metadata": {},
   "outputs": [],
   "source": [
    "#Worldwide Cases by WHO Region \n",
    "fig2a = px.line(WHO_region_melt, x='Year', y='Cases', color='WHO_Region',\n",
    "                title='Worldwide Cases of Malaria',\n",
    "                labels={'Cases':'Malaria Cases (million people)',\n",
    "                        'variable':'WHO Region'})\n",
    "fig2a.write_image('Figures/line/MalariaCases2010_2017_WHOregion_line.jpg')"
   ]
  },
  {
   "attachments": {},
   "cell_type": "markdown",
   "metadata": {},
   "source": [
    "<img src=\"Figures/line/MalariaCases2010_2017_WHOregion_line.jpg\">"
   ]
  },
  {
   "cell_type": "markdown",
   "metadata": {},
   "source": [
    "The graph below shows the countries with the highest share of worldwide malaria cases. Nigeria tops the list with almost a quarter of all cases occurring in the country. Over one third of cases comes from just two countries: Nigeria and the Democratic Republic of Congo (DRC). 50% of all cases is shared between 5 countries: Nigeria, DRC, Mozambique, India and Uganda. However, India and Nigeria are also among the most populous nations in the world."
   ]
  },
  {
   "cell_type": "code",
   "execution_count": null,
   "metadata": {},
   "outputs": [],
   "source": [
    "#Countries with highest share of Malaria Cases\n",
    "fig8 = px.bar(est_cases_top5, x='2017_Perc', y='Country',\n",
    "              title='Highest Share of Estimated Malaria Cases',\n",
    "              labels={'2017_Perc':'Percentage of Worldwide Cases (%)',\n",
    "                      'Country':''\n",
    "                      })\n",
    "fig8.write_image('Figures/bar/Highest_Malaria_Cases.jpg')"
   ]
  },
  {
   "attachments": {},
   "cell_type": "markdown",
   "metadata": {},
   "source": [
    "<img src=\"Figures/bar/Highest_Malaria_Cases.jpg\">"
   ]
  },
  {
   "cell_type": "markdown",
   "metadata": {},
   "source": [
    "Taking a closer look at Africa, we can see the countries with the highest number of cases to the lowest shown below. Some interesting things stand out. Even though Ghana has half the population of Tanzania, Ghana still has more cases of malaria. South Africa, which has about the same population as Tanzania, has almost no cases. To understand the full picture, we need to look at cases normalized to the population. In this case, the incidence rate of malaria in the population living in 'at risk' areas is a better indicator."
   ]
  },
  {
   "cell_type": "code",
   "execution_count": null,
   "metadata": {},
   "outputs": [],
   "source": [
    "#Estimated cases in African countries \n",
    "est_cases_african_countries_df1 = est_cases_african_countries.iloc[:22, :] \n",
    "est_cases_african_countries_df2 = est_cases_african_countries.iloc[22:, :].reset_index(drop=True)\n",
    "count=0\n",
    "for df in [est_cases_african_countries_df1, est_cases_african_countries_df2]:\n",
    "    fig6 = px.bar(df, x='2017', y='Country',\n",
    "                  title='Estimated Cases of Malaria in Africa in 2017', orientation='h',\n",
    "                  error_x_minus='est_cases_min_2017',\n",
    "                  error_x='est_cases_max_2017',\n",
    "                  range_x=[0,80000000],\n",
    "                  labels={'2017':'Estimated Malaria Cases',\n",
    "                          'Country':''\n",
    "                          })\n",
    "    fig6.update_traces(error_x_color='blue',error_x_thickness=1)\n",
    "    fig6.write_image('Figures/bar/EstimatedCases_Africa_half{}.jpg'.format(count))\n",
    "    count+=1"
   ]
  },
  {
   "attachments": {},
   "cell_type": "markdown",
   "metadata": {},
   "source": [
    "<img src=\"Figures/bar/EstimatedCases_Africa_half1.jpg\">"
   ]
  },
  {
   "attachments": {},
   "cell_type": "markdown",
   "metadata": {},
   "source": [
    "<img src=\"Figures/bar/EstimatedCases_Africa_half0.jpg\">"
   ]
  },
  {
   "cell_type": "markdown",
   "metadata": {},
   "source": [
    "## Incidence of Malaria\n",
    "\n",
    "The number of malaria cases will change across countries of different population size and there will also be a natural rise in cases over time due to population growth. We can factor out these effects by comparing the rate of malaria transmission rather, which will allow us to identify regions and communities more affected as well as risk factors in those areas.\n",
    "\n",
    "Below we see the estimated incidence of malaria in African countries in 2018. The modelled data provided by WHO does not include errors, so I will take the numbers at face value here. Rwanda has the highest incidence rate in Africa, at 486 cases per 1000 population at risk in 2018. 49% of people who live in areas of Rwanda where mosquitoes carry malaria, got infected in 2018. Burkina Faso is next with 40%, then Mali (39%) and Benin (39%). \n",
    "\n",
    "Breaking the figure down into colour-coded regions, Western African countries are at the top. This region accounts for some of the highest rates of malaria across Africa. Apart from Rwanda, East Africa has low incidence rates, while Southern African countries vary from Botswana with 0.06% to Mozambique with 31%. The North African countries that feature in the data have either a 0% or almost a 0% incidence rate stretching back to 2000. "
   ]
  },
  {
   "cell_type": "code",
   "execution_count": null,
   "metadata": {},
   "outputs": [],
   "source": [
    "#Incidence of malaria in Africa\n",
    "fig9 = px.bar(inc_cases_africa, x='2018', y='Country', title='Estimated Incidence of Malaria Cases in Africa in 2018',\n",
    "              color = 'AU_Region', color_discrete_sequence=px.colors.qualitative.Bold,\n",
    "              orientation='h',\n",
    "              width=500,\n",
    "              height=1500,\n",
    "              labels={\n",
    "                      '2018':'Incidene of Malaria Cases (Number/1000 population at risk)',\n",
    "                      'Country':'',\n",
    "                      'AU_Region':'African Union Region'\n",
    "                      })\n",
    "fig9.update_layout(yaxis_categoryorder = 'total ascending')\n",
    "\n",
    "AU_RegDict={'NA':'Northern Afica','WA':'Western Africa','SA':'Southern Africa',\n",
    "            'CA':'Central Africa','EA':'Eastern Africa'}\n",
    "for trace in fig9.data:\n",
    "    for key,value in AU_RegDict.items():\n",
    "        if trace.name == key:\n",
    "            trace.name=value\n",
    "            break\n",
    "fig9.write_image('Figures/bar/Inc_Malaria_AfricanCountries.jpg')"
   ]
  },
  {
   "attachments": {},
   "cell_type": "markdown",
   "metadata": {},
   "source": [
    "<img src=\"Figures/bar/Inc_Malaria_AfricanCountries.jpg\">"
   ]
  },
  {
   "cell_type": "markdown",
   "metadata": {},
   "source": [
    "In the figure below, the incidence rate in Africa is high, as probably expected, but it is also high in the Western Pacific. When the population is accounted for, Southeast Asia looks to be in a better position, with malaria occurring in the region at the same rate as the Americas and Eastern Mediterranean regions. The good news is that the rate of malaria transmission between 2000 and 2018 shows on average a steady decline for both Africa and the Western Pacific. "
   ]
  },
  {
   "cell_type": "code",
   "execution_count": null,
   "metadata": {},
   "outputs": [],
   "source": [
    "#Incidence of malaria by WHO Region\n",
    "fig3 = px.line(inc_cases_region_, x='Year', y='Inc_Cases', color='WHO_Region',\n",
    "               title='Estimated Incidence of Malaria Cases per 1000 people at risk',\n",
    "               labels={'Inc_Cases':'Estimated Cases (Number/1000 people at risk)'})\n",
    "fig3.write_image('Figures/line/Inc_Malaria_WHORegion.jpg')"
   ]
  },
  {
   "attachments": {},
   "cell_type": "markdown",
   "metadata": {},
   "source": [
    "<img src=\"Figures/line/Inc_Malaria_WHORegion.jpg\">"
   ]
  },
  {
   "cell_type": "markdown",
   "metadata": {},
   "source": [
    "The plot below shows the incidence of malaria for each subregion of Africa from 2000 to 2018. Interestingly, all Sub-Saharan regions have shown similar declines in incidence of malaria since 2000, however, East Africa has risen in recent years."
   ]
  },
  {
   "cell_type": "code",
   "execution_count": null,
   "metadata": {},
   "outputs": [],
   "source": [
    "#Incidence of malaria by AU Region\n",
    "fig4 = px.line(inc_AU_region, x='Year', y='Inc_Cases',\n",
    "               title='Incidence of Malaria by African Subregion', color='AU_Region',\n",
    "               labels={'Inc_Cases':'Malaria Cases (Number/1000 people at risk)'})\n",
    "fig4.write_image('Figures/line/Inc_Malaria_AURegion.jpg')"
   ]
  },
  {
   "attachments": {},
   "cell_type": "markdown",
   "metadata": {},
   "source": [
    "<img src=\"Figures/line/Inc_Malaria_AURegion.jpg\">"
   ]
  },
  {
   "cell_type": "markdown",
   "metadata": {},
   "source": [
    "The following code looks at the trends of countries within each African region using Matplotlib."
   ]
  },
  {
   "cell_type": "code",
   "execution_count": null,
   "metadata": {},
   "outputs": [],
   "source": [
    "#Incidence of malaria by selected African region with Matplotlib\n",
    "plt.ioff() #turn off interactive plotting\n",
    "inc_years=inc_cases.columns.tolist()[2:]\n",
    "Africa_REGIONS_name=['SA','EA','CA','NA','WA']\n",
    "for name in Africa_REGIONS_name:\n",
    "    plt.figure()\n",
    "    ax=plt.subplot()\n",
    "    for index,row in inc_cases_africa.iterrows():\n",
    "        region = row.values.tolist()[1]\n",
    "        if region == name:\n",
    "            y = row.values.tolist()[2:]\n",
    "            country = row.values.tolist()[0]\n",
    "            plt.plot(inc_years, y, label=country)\n",
    "    ax.set_xticks(range(len(inc_years))) \n",
    "    ax.set_xticklabels(inc_years, rotation=45)\n",
    "    ax.set_ylim(ymin=0,ymax=600)\n",
    "    plt.title('Incidence rate of Malaria in Selected Region ({})'.format(name))\n",
    "    plt.xlabel('Years')\n",
    "    plt.ylabel('Malaria Cases (Number/1000 people at risk)')\n",
    "    plt.legend(bbox_to_anchor=(1.05, 1), loc='upper left', fontsize='x-small')\n",
    "    plt.tight_layout()\n",
    "    plt.savefig('Figures/line/Selected_Region_{}_matplotlib.jpg'.format(name))\n",
    "    plt.close(\"all\")"
   ]
  },
  {
   "cell_type": "markdown",
   "metadata": {},
   "source": [
    "Producing the same plots can be done with Plotly, as shown below. Countries within each region of Africa, as defined by the African Union, are shown below with their corresponding trends in incidence. The plots are broken down into 5 regions: Central Africa (CA), East Africa (EA), Southern Africa (SA), Western Africa (WA) and North Africa (NA).\n",
    "\n",
    "Some anomalies stand out. The island nation of São Tomé and Príncipe sees a steep drop in incidence from the early 2000s. Rwanda rises sharply from 2011 onwards. Guinea-Bissau has a sharp drop in incidence between 2000 and 2005, going from among the highest to the lowest in the region. Malaria is not prevalent in any of the North African countries included in the data. Some countries seem to have a similar wave like feature over a few years, such as Uganda. It is hard to say whether this is an artifact or a real feature, as I don't have details on the modelling done by WHO. Errors for these incidence rates are also not provided by WHO. "
   ]
  },
  {
   "cell_type": "code",
   "execution_count": null,
   "metadata": {},
   "outputs": [],
   "source": [
    "#Incidence of malaria by selected African region\n",
    "for name in Africa_REGIONS_name:\n",
    "    inc_cases_africa_select = inc_cases_africa[inc_cases_africa['AU_Region']==name]\n",
    "    inc_cases_africa_select = pd.melt(inc_cases_africa_select, id_vars=['Country'], value_vars=years_list_inc,\n",
    "                                      var_name='Year', value_name='Inc_Cases')\n",
    "    fig7 = px.line(inc_cases_africa_select, x='Year', y='Inc_Cases', color='Country',\n",
    "                    title='Incidence rate of Malaria in Selected Region ({})'.format(name),\n",
    "                    range_y=[0,600], labels={'Inc_Cases':'Malaria Incidence (per 1000 population at risk)'})\n",
    "    fig7.write_image('Figures/line/Selected_Region_{}.jpg'.format(name))"
   ]
  },
  {
   "attachments": {},
   "cell_type": "markdown",
   "metadata": {},
   "source": [
    "<img src=\"Figures/line/Selected_Region_CA.jpg\">"
   ]
  },
  {
   "attachments": {},
   "cell_type": "markdown",
   "metadata": {},
   "source": [
    "<img src=\"Figures/line/Selected_Region_EA.jpg\">"
   ]
  },
  {
   "attachments": {},
   "cell_type": "markdown",
   "metadata": {},
   "source": [
    "<img src=\"Figures/line/Selected_Region_SA.jpg\">"
   ]
  },
  {
   "attachments": {},
   "cell_type": "markdown",
   "metadata": {},
   "source": [
    "<img src=\"Figures/line/Selected_Region_WA.jpg\">"
   ]
  },
  {
   "attachments": {},
   "cell_type": "markdown",
   "metadata": {},
   "source": [
    "<img src=\"Figures/line/Selected_Region_NA.jpg\">"
   ]
  },
  {
   "cell_type": "markdown",
   "metadata": {},
   "source": [
    "## Funding "
   ]
  },
  {
   "cell_type": "markdown",
   "metadata": {},
   "source": [
    "### Overall Funding\n",
    "As mentioned in the first section, there was a 2.6% increase in malaria cases in Africa from 2016 to 2017, after a slow but steady decline. However, Looking at the total funding in Africa, there was an increase in funding in 2017 of 12% from the previous year. So we see an overall increase in funding but also an increase in the estimated number of cases. To look more closely, we need to factor in population growth."
   ]
  },
  {
   "cell_type": "code",
   "execution_count": null,
   "metadata": {},
   "outputs": [],
   "source": [
    "#Malaria Funding in Africa\n",
    "Funding_df_total = Funding_df.groupby('Year').sum().reset_index()\n",
    "fig17 = px.bar(Funding_df_total, x='Year', y='Total_Funding',\n",
    "              title='Malaria Funding in Africa',\n",
    "              labels={'Total_Funding':'Malaria Funding (USD)'})\n",
    "fig17.write_image('Figures/bar/MalariaFunding_2016_2018_AUregion.jpg')"
   ]
  },
  {
   "attachments": {},
   "cell_type": "markdown",
   "metadata": {},
   "source": [
    "<img src=\"Figures/bar/MalariaFunding_2016_2018_AUregion.jpg\">"
   ]
  },
  {
   "cell_type": "markdown",
   "metadata": {},
   "source": [
    "### Funding per Capita\n",
    "When comparing number of malaria cases with funding, it is necessary to consider a natural rise in cases due to population growth. A better indicator of funding on the ground is funding per capita and comparing this to the incidence rate of malaria cases.\n",
    "\n",
    "We can see that there was also an increase in funding per capita from US\\\\$2.2 in 2016 to US\\\\$2.4 in 2017. There was also a slight decrease in the average incidence of cases across Africa in the same time frame (from 194.4 to 191.6). However, although 2018 saw a 31% drop in funding per capita, the average incidence rate of malaria cases continued to decrease despite this drastic drop."
   ]
  },
  {
   "cell_type": "code",
   "execution_count": null,
   "metadata": {},
   "outputs": [],
   "source": [
    "#Average Funding per Capita \n",
    "Funding_Africa_Year = Funding_df.groupby('Year').mean().reset_index()\n",
    "titles = ['Average Funding per Capita in Africa','Average Incidence of Malaria Cases in Africa']\n",
    "count=0\n",
    "for value in ['Funding_per_capita','Inc_Cases']: \n",
    "    fig14 = px.bar(Funding_Africa_Year, x='Year', y=value,\n",
    "                   title=titles[count])\n",
    "    fig14.write_image('Figures/bar/Funding_{}.jpg'.format(value))\n",
    "    count+=1"
   ]
  },
  {
   "attachments": {},
   "cell_type": "markdown",
   "metadata": {},
   "source": [
    "<img src=\"Figures/bar/Funding_Funding_per_capita.jpg\">"
   ]
  },
  {
   "attachments": {},
   "cell_type": "markdown",
   "metadata": {},
   "source": [
    "<img src=\"Figures/bar/Funding_Inc_Cases.jpg\">"
   ]
  },
  {
   "cell_type": "markdown",
   "metadata": {},
   "source": [
    "### Insecticide Treated Nets \n",
    "Insecticide Treated Nets (ITNs) have been widely distributed in many countries. Below I plot the percentage of a country with 'access to an ITN' (percentage of the population that had been given an ITN in the past) with the incidence rate of malaria within that country. Each dot represents a specific year. Data from only a small number of countries was available. \n",
    "\n",
    "With this limited data, the percentage of population with access to an ITN does not seem to scale with the estimated incidence rates within a country. We should remember that the incidence rate is in many countries is estimated using a model, which also uses the prevalence of malaria parasites. These nets may be making a change in malaria cases on the ground but the model used by WHO and the inferred incidence rate might not be complete. If WHO largely uses parasite prevalence to indicate incidence rates in countries with a large gap in healthcare services and reporting, then any methods used to control malaria transmission in humans without effecting the parasites might over estimate numbers. As I have not seen available information on details of the modelling, it is hard to say, especially without errors attached.\n",
    "\n",
    "If the incidence rates are very accurate, then it could be that not all the ITNs distributed are still in a good condition for use or that everyone with access is actually sleeping under one. Though, I would expect that these number should all scale together, meaning we should still see a correlation below, which we don't. More data and detailed information on modelling is needed here."
   ]
  },
  {
   "cell_type": "code",
   "execution_count": null,
   "metadata": {},
   "outputs": [],
   "source": [
    "#Insecticide Treated Nets (ITNs)\n",
    "fig15 = px.scatter(Funding_ITN, x='Pop_Perc_ITN', y='Inc_Cases', \n",
    "                  title='ITN impact on Incidence of Malaria')\n",
    "fig15.write_image('Figures/scatter/ITN_Inc.jpg')"
   ]
  },
  {
   "attachments": {},
   "cell_type": "markdown",
   "metadata": {},
   "source": [
    "<img src=\"Figures/scatter/ITN_Inc.jpg\">"
   ]
  },
  {
   "cell_type": "markdown",
   "metadata": {},
   "source": [
    "## Weather Factors\n",
    "As mosquitoes need shallow water such as puddles and reservoirs to breed, I was interested in how weather conditions, such as rainfall and cloud cover, could compare with the incidence of malaria seen in different countries. I also wondered if mosquito activity changes depending on local weather conditions and if so, would this show up in the incidence rates within a country. \n",
    "\n",
    "The figures below compare a range of weather conditions with the incidence rate of malaria. The data included daily conditions such as maximum temperature and precipitation recorded for that day at different locations and averaged for the country. I then averaged these conditions over each year and compared them with the yearly incidence rate of malaria for each country. Data was used from *Berkeley Earth* and *World Weather Online*. *Berkeley Earth* data on global temperatures is recorded temperature data, whereas *World Weather Online* uses historical forecast data. Berkeley Earth has data available between 2000 and 2013 and *World Weather Online* has available data from July 2008 onwards. To cross check the recorded and forecast datasets, I compared the average temperature data from the two organisations below, with both plots being similar. \n",
    "\n",
    "When performing a regression analysis on the data, I found no strong correlation between weather conditions such as humidity, temperature and cloud cover and the estimated incidence rate of malaria transmission in African countries. Without errors and details of the modelling done by WHO, it is hard to say for sure if these conditions play a role."
   ]
  },
  {
   "cell_type": "code",
   "execution_count": null,
   "metadata": {},
   "outputs": [],
   "source": [
    "#Berkeley Earth Temperature (as cross check)\n",
    "fig10=px.scatter(temp_df_allyears, x='AverageTemperature', y='Malaria_Cases_Year', color='Year',\n",
    "                title='Temperature against Incidence Rate of Malaria in African Countries',\n",
    "                labels={'Malaria_Cases_Year':'Malaria Incidence (per 1000 population at risk)',\n",
    "                       'AverageTemperature':'Average Temperature'})\n",
    "fig10.write_image('Figures/scatter/BerkeleyEarth_Temperature_Year.jpg')\n",
    "\n",
    "fig10a=px.scatter(temp_df_allyears, x='AverageTemperature', y='Malaria_Cases_Year', color='Country',\n",
    "                title='Temperature against Incidence Rate of Malaria in African Countries',\n",
    "                labels={'Malaria_Cases_Year':'Malaria Incidence (per 1000 population at risk)',\n",
    "                       'AverageTemperature':'Average Temperature'})\n",
    "fig10a.write_image('Figures/scatter/BerkeleyEarth_Temperature_Country.jpg')"
   ]
  },
  {
   "attachments": {},
   "cell_type": "markdown",
   "metadata": {},
   "source": [
    "<img src=\"Figures/scatter/BerkeleyEarth_Temperature_Year.jpg\">"
   ]
  },
  {
   "attachments": {},
   "cell_type": "markdown",
   "metadata": {},
   "source": [
    "<img src=\"Figures/scatter/BerkeleyEarth_Temperature_Country.jpg\">"
   ]
  },
  {
   "cell_type": "markdown",
   "metadata": {},
   "source": [
    "The *World Weather Online* has forecast data on multiple weather conditions. The plots below show how the averaged daily precipitation, humidity, cloud cover, pressure as well as maximum, minimum and average temperatures over the year compares with the incidence rate found in African countries. Differences in average daily temperatures between the above and below plots are most likely from differences in forecast data and measured values."
   ]
  },
  {
   "cell_type": "code",
   "execution_count": null,
   "metadata": {},
   "outputs": [],
   "source": [
    "#Weather Features (World Weather Online)\n",
    "for name in WWO_Final_columns[2:9]:\n",
    "    fig11=px.scatter(WWO_df, x=name, y='Inc_Cases', color='Year', \n",
    "                title='{} against Incidence Rate of Malaria in African Countries'.format(name),\n",
    "                labels={'Inc_Cases':'Malaria Incidence (per 1000 population at risk)'})\n",
    "    fig11.write_image('Figures/scatter/{}.jpg'.format(name))"
   ]
  },
  {
   "attachments": {},
   "cell_type": "markdown",
   "metadata": {},
   "source": [
    "<img src=\"Figures/scatter/tempC.jpg\">"
   ]
  },
  {
   "attachments": {},
   "cell_type": "markdown",
   "metadata": {},
   "source": [
    "<img src=\"Figures/scatter/cloudcover.jpg\">"
   ]
  },
  {
   "attachments": {},
   "cell_type": "markdown",
   "metadata": {},
   "source": [
    "<img src=\"Figures/scatter/humidity.jpg\">"
   ]
  },
  {
   "attachments": {},
   "cell_type": "markdown",
   "metadata": {},
   "source": [
    "<img src=\"Figures/scatter/maxtempC.jpg\">"
   ]
  },
  {
   "attachments": {},
   "cell_type": "markdown",
   "metadata": {},
   "source": [
    "<img src=\"Figures/scatter/mintempC.jpg\">"
   ]
  },
  {
   "attachments": {},
   "cell_type": "markdown",
   "metadata": {},
   "source": [
    "<img src=\"Figures/scatter/precipMM.jpg\">"
   ]
  },
  {
   "attachments": {},
   "cell_type": "markdown",
   "metadata": {},
   "source": [
    "<img src=\"Figures/scatter/pressure.jpg\">"
   ]
  },
  {
   "cell_type": "markdown",
   "metadata": {},
   "source": [
    "If we take the data at face value, however, then this suggests other factors play a more important role in the transmission of malaria. Controlling the data for parasite prevalence in African countries might be useful. Comparing countries with a similar rate of parasite prevalence but having varying numbers of cases could reveal where the most important differences lie in fighting the disease. \n",
    "\n",
    "Factors that could also be interesting to look into in the future could be pesticide spraying, urban land development, percentage of land covered with water reservoirs, average age of the population, GDP and types of mosquitoes present."
   ]
  },
  {
   "cell_type": "code",
   "execution_count": null,
   "metadata": {},
   "outputs": [],
   "source": []
  }
 ],
 "metadata": {
  "kernelspec": {
   "display_name": "Python 3",
   "language": "python",
   "name": "python3"
  },
  "language_info": {
   "codemirror_mode": {
    "name": "ipython",
    "version": 3
   },
   "file_extension": ".py",
   "mimetype": "text/x-python",
   "name": "python",
   "nbconvert_exporter": "python",
   "pygments_lexer": "ipython3",
   "version": "3.7.7"
  }
 },
 "nbformat": 4,
 "nbformat_minor": 4
}
